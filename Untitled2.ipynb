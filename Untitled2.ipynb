{
  "nbformat": 4,
  "nbformat_minor": 0,
  "metadata": {
    "colab": {
      "provenance": [],
      "authorship_tag": "ABX9TyOEaL+6p+YrvyMtGStHhGtQ",
      "include_colab_link": true
    },
    "kernelspec": {
      "name": "python3",
      "display_name": "Python 3"
    },
    "language_info": {
      "name": "python"
    }
  },
  "cells": [
    {
      "cell_type": "markdown",
      "metadata": {
        "id": "view-in-github",
        "colab_type": "text"
      },
      "source": [
        "<a href=\"https://colab.research.google.com/github/renesalasperea-design/velocidad/blob/main/Untitled2.ipynb\" target=\"_parent\"><img src=\"https://colab.research.google.com/assets/colab-badge.svg\" alt=\"Open In Colab\"/></a>"
      ]
    },
    {
      "cell_type": "code",
      "execution_count": 5,
      "metadata": {
        "colab": {
          "base_uri": "https://localhost:8080/"
        },
        "id": "HkjwiLdzIVFM",
        "outputId": "30d0af31-fb9f-4841-cc79-75b0ebafcd3b"
      },
      "outputs": [
        {
          "output_type": "stream",
          "name": "stdout",
          "text": [
            "ingresa el primer numero:15\n",
            "ingresa el segundo numero:12\n",
            "El minimo comun multiplo de 15 y 12 es 60\n"
          ]
        }
      ],
      "source": [
        "a=int(input(\"ingresa el primer numero:\"))\n",
        "b=int(input(\"ingresa el segundo numero:\"))\n",
        "def mcm(a, b) :\n",
        "  \"\"\"Calcula el minimo comun multiplo (mcm) de dos numeros enteros.\"\"\"\n",
        "  if a == 0 or b == 0:\n",
        "    return 0\n",
        "  if a > b:\n",
        "    mayor = a\n",
        "  else:\n",
        "    mayor = b\n",
        "  while(True):\n",
        "    if((mayor % a == 0) and (mayor % b == 0)):\n",
        "      mcm = mayor\n",
        "      return mcm # The return statement should be inside the if block\n",
        "    mayor += 1\n",
        "print(\"El minimo comun multiplo de\" , a, \"y\" , b, \"es\",mcm(a,b))\n"
      ]
    }
  ]
}